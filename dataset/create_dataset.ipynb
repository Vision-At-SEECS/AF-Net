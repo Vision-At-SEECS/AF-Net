{
 "cells": [
  {
   "cell_type": "code",
   "execution_count": 22,
   "metadata": {
    "pycharm": {
     "name": "#%%\n"
    }
   },
   "outputs": [],
   "source": [
    "import glob\n",
    "from skimage import io\n",
    "import scipy.io as sio\n",
    "from skimage import data, io, util\n",
    "from matplotlib import pyplot as plt\n",
    "import numpy as np\n",
    "\n",
    "import cv2\n",
    "import os\n",
    "from tqdm import tqdm\n",
    "import shutil"
   ]
  },
  {
   "cell_type": "code",
   "execution_count": 3,
   "metadata": {
    "pycharm": {
     "name": "#%%\n"
    }
   },
   "outputs": [],
   "source": [
    "img_paths = glob.glob(\"*/*/*/*\")\n",
    "\n",
    "imgs_fold1 = img_paths[2]\n",
    "labels_fold1 = img_paths[0]\n",
    "\n",
    "imgs_fold2 = img_paths[8]\n",
    "labels_fold2 = img_paths[6]\n",
    "\n",
    "imgs_fold3 = img_paths[5]\n",
    "labels_fold3 = img_paths[3]"
   ]
  },
  {
   "cell_type": "code",
   "execution_count": 2,
   "metadata": {
    "pycharm": {
     "name": "#%%\n"
    }
   },
   "outputs": [
    {
     "name": "stdout",
     "output_type": "stream",
     "text": [
      "(2656, 256, 256, 3)\n",
      "(256, 256, 3)\n",
      "(2722, 256, 256, 3)\n"
     ]
    }
   ],
   "source": [
    "import numpy as np\n",
    "temp1 = np.load('C:/Users/es255022/OneDrive - Teradata/Desktop/Dataset/pannuke/fold_1/Fold 1/images/fold1/images.npy')\n",
    "print(temp1.shape)\n",
    "print(temp1[0].shape)\n",
    "# temp2 = np.load('C:/Users/es255022/OneDrive - Teradata/Desktop/Dataset/pannuke/fold_2/Fold 2/images/fold2/images.npy')\n",
    "# print(temp2.shape)\n",
    "temp3 = np.load('C:/Users/es255022/OneDrive - Teradata/Desktop/Dataset/pannuke/fold_3/Fold 3/images/fold3/images.npy')\n",
    "print(temp3.shape)"
   ]
  },
  {
   "cell_type": "code",
   "execution_count": 5,
   "metadata": {
    "pycharm": {
     "name": "#%%\n"
    }
   },
   "outputs": [
    {
     "data": {
      "text/plain": [
       "7901"
      ]
     },
     "execution_count": 5,
     "metadata": {},
     "output_type": "execute_result"
    }
   ],
   "source": [
    "2656+2523+2722"
   ]
  },
  {
   "cell_type": "code",
   "execution_count": 3,
   "metadata": {
    "pycharm": {
     "name": "#%%\n"
    }
   },
   "outputs": [
    {
     "name": "stdout",
     "output_type": "stream",
     "text": [
      "Fold 1/images/fold1/images.npy Fold 1/masks/fold1/masks.npy\n",
      "Fold 2/images/fold2/images.npy Fold 2/masks/fold2/masks.npy\n",
      "Fold 3/images/fold3/images.npy Fold 3/masks/fold3/masks.npy\n"
     ]
    }
   ],
   "source": [
    "print(imgs_fold1, labels_fold1)\n",
    "print(imgs_fold2, labels_fold2)\n",
    "print(imgs_fold3, labels_fold3)"
   ]
  },
  {
   "cell_type": "code",
   "execution_count": 6,
   "metadata": {
    "pycharm": {
     "name": "#%%\n"
    }
   },
   "outputs": [],
   "source": [
    "def show(img):\n",
    "  io.imshow(img)\n",
    "  plt.show()"
   ]
  },
  {
   "cell_type": "code",
   "execution_count": 31,
   "metadata": {
    "pycharm": {
     "name": "#%%\n"
    }
   },
   "outputs": [],
   "source": [
    "def create_centroid_mask(centroids, height, width):\n",
    "    cent_img = np.zeros((height,width))\n",
    "    cent_img[tuple(centroids.T)] = 1\n",
    "    kernel = cv2.getStructuringElement(cv2.MORPH_ELLIPSE, (7,7))\n",
    "    centroids_mask = cv2.dilate(cent_img, kernel, iterations=2)\n",
    "    \n",
    "    return centroids_mask\n",
    "\n",
    "def rescale_sample(sample):\n",
    "    sample = np.rescale(sample, 2, anti_aliasing=False, multichannel=True)\n",
    "    return sample\n",
    "\n",
    "def read_image(imagePath):\n",
    "    image = io.imread(imagePath)[:,:,:3]\n",
    "    return image\n",
    "\n",
    "def read_annotation(annotPath):\n",
    "    mask = sio.loadmat(annotPath)\n",
    "    \n",
    "    centroid_map = create_centroid_mask(mask['centroid'].astype(int)[:,::-1], mask['inst_map'].shape[0], mask['inst_map'].shape[1])\n",
    "    inst_map = mask['inst_map']\n",
    "    nuclear_map = inst_map+0\n",
    "    nuclear_map[nuclear_map!=0] = 1\n",
    "    \n",
    "    return centroid_map, inst_map, nuclear_map\n",
    "\n",
    "def get_inst_centroid(inst_map):\n",
    "    \"\"\"Get instance centroids given an input instance map.\n",
    "    Args:\n",
    "        inst_map: input instance map\n",
    "    \n",
    "    Returns:\n",
    "        array of centroids\n",
    "    \n",
    "    \"\"\"\n",
    "    inst_centroid_list = []\n",
    "    inst_id_list = list(np.unique(inst_map))\n",
    "    for inst_id in inst_id_list[1:]:  # avoid 0 i.e background\n",
    "        mask = np.array(inst_map == inst_id, np.uint8)\n",
    "        inst_moment = cv2.moments(mask)\n",
    "        inst_centroid = [\n",
    "            int(inst_moment[\"m10\"] / inst_moment[\"m00\"]),\n",
    "            int(inst_moment[\"m01\"] / inst_moment[\"m00\"]),\n",
    "        ]\n",
    "        inst_centroid_list.append(inst_centroid)\n",
    "    return np.array(inst_centroid_list)"
   ]
  },
  {
   "cell_type": "code",
   "execution_count": 34,
   "metadata": {
    "pycharm": {
     "name": "#%%\n"
    }
   },
   "outputs": [],
   "source": [
    "def process_fold(images, masks, output_dir, fold):\n",
    "    \n",
    "    for idx in tqdm(range(images.shape[0]),total=images.shape[0]):\n",
    "\n",
    "        image = images[idx]\n",
    "        mask = masks[idx]\n",
    "        \n",
    "        try:\n",
    "            centroids = get_inst_centroid(np.sum(mask[:,:,:5],axis=2))\n",
    "            centroid_map = create_centroid_mask(centroids[:,::-1], mask.shape[0], mask.shape[1])\n",
    "            inst_map = np.sum(mask[:,:,:5],axis=2)\n",
    "            nuclear_map = ((mask[:,:,5]*-1)+1).astype(int)\n",
    "            type_map = np.argmax(mask[:,:,:5],axis=2)+1\n",
    "            type_map[type_map==7] = 0\n",
    "#             return\n",
    "        except:\n",
    "            continue\n",
    "        \n",
    "\n",
    "\n",
    "        output_mask = np.zeros((image.shape[0],image.shape[1],7))\n",
    "        output_mask[:,:,:3] = image/255.0\n",
    "        output_mask[:,:,3] = inst_map # inst_mask\n",
    "        output_mask[:,:,4] = nuclear_map # binary mask\n",
    "        output_mask[:,:,5] = centroid_map # centroids_mask\n",
    "        output_mask[:,:,6] = type_map # type mask\n",
    "\n",
    "\n",
    "#         show(inst_map)\n",
    "#         show(nuclear_map)\n",
    "#         show(centroid_map)\n",
    "\n",
    "#         print(np.unique(inst_map))\n",
    "#         print(np.unique(nuclear_map))\n",
    "#         print(np.unique(centroid_map))\n",
    "\n",
    "        print(idx)\n",
    "        np.save(\"{}/{}_{}.npy\".format(output_dir,fold,idx), output_mask)\n",
    "    "
   ]
  },
  {
   "cell_type": "code",
   "execution_count": 26,
   "metadata": {
    "pycharm": {
     "name": "#%%\n"
    }
   },
   "outputs": [
    {
     "name": "stdout",
     "output_type": "stream",
     "text": [
      "Processing Fold1\n"
     ]
    },
    {
     "name": "stderr",
     "output_type": "stream",
     "text": [
      "100%|██████████| 2656/2656 [00:41<00:00, 64.14it/s] \n"
     ]
    }
   ],
   "source": [
    "train_dir = \"C:/Users/es255022/OneDrive - Teradata/Desktop/Dataset/pannuke_processed/train\"\n",
    "\n",
    "\n",
    "try:\n",
    "    shutil.rmtree(train_dir)\n",
    "except:\n",
    "    pass\n",
    "\n",
    "try:\n",
    "    shutil.rmtree(test_dir)\n",
    "except:\n",
    "    pass\n",
    "if not os.path.exists(train_dir):\n",
    "    os.makedirs(train_dir)\n",
    "\n",
    "if not os.path.exists(test_dir):\n",
    "    os.makedirs(test_dir)\n",
    "\n",
    "print(\"Processing Fold1\")\n",
    "images = np.load('C:/Users/es255022/OneDrive - Teradata/Desktop/Dataset/pannuke/fold_1/Fold 1/images/fold1/images.npy')\n",
    "masks = np.load('C:/Users/es255022/OneDrive - Teradata/Desktop/Dataset/pannuke/fold_1/Fold 1/masks/fold1/masks.npy')\n",
    "# process_fold(images, masks, train_dir, \"fold1\")\n",
    "process_fold(images, masks, test_dir, \"fold1\")\n",
    "# print(masks[0].shape)\n",
    "# print(len(np.nonzero(masks[0])))\n",
    "# print(masks[0].shape)\n",
    "# x=np.nonzero(masks[100])\n",
    "# # print(x[0])\n",
    "# print(np.unique(x[1]))\n",
    "# print(len(x[2]))\n",
    "# print(np.unique(x[2]))\n",
    "# print(x)\n",
    "\n",
    "# print(\"Processing Fold2\")\n",
    "# images = np.load(imgs_fold2)\n",
    "# masks = np.load(labels_fold2)\n",
    "# process_fold(images, masks, train_dir, \"fold2\")\n",
    "#\n",
    "# print(\"Processing Fold3\")\n",
    "# images = np.load(imgs_fold3)\n",
    "# masks = np.load(labels_fold3)\n",
    "# process_fold(images, masks, test_dir, \"fold3\")\n",
    "\n"
   ]
  },
  {
   "cell_type": "code",
   "execution_count": 20,
   "outputs": [
    {
     "ename": "FileNotFoundError",
     "evalue": "[Errno 2] No such file or directory: 'C:/Users/es255022/OneDrive - Teradata/Desktop/Dataset/pannuke_processed/train/fold1_100.npy'",
     "output_type": "error",
     "traceback": [
      "\u001B[1;31m---------------------------------------------------------------------------\u001B[0m",
      "\u001B[1;31mFileNotFoundError\u001B[0m                         Traceback (most recent call last)",
      "Input \u001B[1;32mIn [20]\u001B[0m, in \u001B[0;36m<cell line: 1>\u001B[1;34m()\u001B[0m\n\u001B[1;32m----> 1\u001B[0m t\u001B[38;5;241m=\u001B[39m\u001B[43mnp\u001B[49m\u001B[38;5;241;43m.\u001B[39;49m\u001B[43mload\u001B[49m\u001B[43m(\u001B[49m\u001B[38;5;124;43m'\u001B[39;49m\u001B[38;5;124;43mC:/Users/es255022/OneDrive - Teradata/Desktop/Dataset/pannuke_processed/train/fold1_100.npy\u001B[39;49m\u001B[38;5;124;43m'\u001B[39;49m\u001B[43m)\u001B[49m\n\u001B[0;32m      2\u001B[0m \u001B[38;5;28mprint\u001B[39m(t\u001B[38;5;241m.\u001B[39mshape)\n\u001B[0;32m      3\u001B[0m X\u001B[38;5;241m=\u001B[39mt[\u001B[38;5;241m.\u001B[39m\u001B[38;5;241m.\u001B[39m\u001B[38;5;241m.\u001B[39m,(\u001B[38;5;241m0\u001B[39m,\u001B[38;5;241m1\u001B[39m,\u001B[38;5;241m2\u001B[39m)]\n",
      "File \u001B[1;32m~\\PycharmProjects\\pCDNet\\venv\\lib\\site-packages\\numpy\\lib\\npyio.py:407\u001B[0m, in \u001B[0;36mload\u001B[1;34m(file, mmap_mode, allow_pickle, fix_imports, encoding)\u001B[0m\n\u001B[0;32m    405\u001B[0m     own_fid \u001B[38;5;241m=\u001B[39m \u001B[38;5;28;01mFalse\u001B[39;00m\n\u001B[0;32m    406\u001B[0m \u001B[38;5;28;01melse\u001B[39;00m:\n\u001B[1;32m--> 407\u001B[0m     fid \u001B[38;5;241m=\u001B[39m stack\u001B[38;5;241m.\u001B[39menter_context(\u001B[38;5;28;43mopen\u001B[39;49m\u001B[43m(\u001B[49m\u001B[43mos_fspath\u001B[49m\u001B[43m(\u001B[49m\u001B[43mfile\u001B[49m\u001B[43m)\u001B[49m\u001B[43m,\u001B[49m\u001B[43m \u001B[49m\u001B[38;5;124;43m\"\u001B[39;49m\u001B[38;5;124;43mrb\u001B[39;49m\u001B[38;5;124;43m\"\u001B[39;49m\u001B[43m)\u001B[49m)\n\u001B[0;32m    408\u001B[0m     own_fid \u001B[38;5;241m=\u001B[39m \u001B[38;5;28;01mTrue\u001B[39;00m\n\u001B[0;32m    410\u001B[0m \u001B[38;5;66;03m# Code to distinguish from NumPy binary files and pickles.\u001B[39;00m\n",
      "\u001B[1;31mFileNotFoundError\u001B[0m: [Errno 2] No such file or directory: 'C:/Users/es255022/OneDrive - Teradata/Desktop/Dataset/pannuke_processed/train/fold1_100.npy'"
     ]
    }
   ],
   "source": [
    "t=np.load('C:/Users/es255022/OneDrive - Teradata/Desktop/Dataset/pannuke_processed/train/fold1_100.npy')\n",
    "print(t.shape)\n",
    "X=t[...,(0,1,2)]\n",
    "Y=t[...,3]\n",
    "cls=t[...,4]\n"
   ],
   "metadata": {
    "collapsed": false,
    "pycharm": {
     "name": "#%%\n"
    }
   }
  },
  {
   "cell_type": "code",
   "execution_count": 11,
   "outputs": [],
   "source": [
    "def plot_img_label(img, lbl, img_title=\"image\", lbl_title=\"label\", **kwargs):\n",
    "    fig, (ai,al) = plt.subplots(1,2, figsize=(12,5), gridspec_kw=dict(width_ratios=(1.25,1)))\n",
    "    im = ai.imshow(img, cmap='gray', clim=(0,1))\n",
    "    # im = ai.imshow(img, clim=(0,1))\n",
    "    ai.set_title(img_title)\n",
    "    fig.colorbar(im, ax=ai)\n",
    "    # al.imshow(lbl, cmap=lbl_cmap) orig\n",
    "\n",
    "    al.imshow(lbl)\n",
    "    al.set_title(lbl_title)\n",
    "    plt.tight_layout()"
   ],
   "metadata": {
    "collapsed": false,
    "pycharm": {
     "name": "#%%\n"
    }
   }
  },
  {
   "cell_type": "code",
   "execution_count": 33,
   "outputs": [
    {
     "name": "stdout",
     "output_type": "stream",
     "text": [
      "(256, 256, 7)\n",
      "(256, 256, 3)\n"
     ]
    },
    {
     "data": {
      "text/plain": "<Figure size 864x360 with 3 Axes>",
      "image/png": "[encoded data removed]"
     },
     "metadata": {
      "needs_background": "light"
     },
     "output_type": "display_data"
    }
   ],
   "source": [
    "t=np.load('C:/Users/es255022/OneDrive - Teradata/Desktop/Dataset/pannuke_processed/train/fold1_100.npy')\n",
    "print(t.shape)\n",
    "X=t[...,(0,1,2)]\n",
    "Y=t[...,3]\n",
    "cls=t[...,4]\n",
    "print(X.shape)\n",
    "\n",
    "assert X.ndim in (2,3)\n",
    "X = X if (X.ndim==2 or X.shape[-1]==3) else X[...,0]\n",
    "plot_img_label(cls,Y)\n",
    "None;"
   ],
   "metadata": {
    "collapsed": false,
    "pycharm": {
     "name": "#%%\n"
    }
   }
  },
  {
   "cell_type": "code",
   "execution_count": 8,
   "metadata": {
    "scrolled": true,
    "pycharm": {
     "name": "#%%\n"
    }
   },
   "outputs": [
    {
     "name": "stdout",
     "output_type": "stream",
     "text": [
      "Processing Fold1\n"
     ]
    },
    {
     "name": "stderr",
     "output_type": "stream",
     "text": [
      "100%|██████████| 2656/2656 [00:48<00:00, 55.15it/s]\n"
     ]
    },
    {
     "name": "stdout",
     "output_type": "stream",
     "text": [
      "Processing Fold2\n"
     ]
    },
    {
     "name": "stderr",
     "output_type": "stream",
     "text": [
      "100%|██████████| 2523/2523 [00:34<00:00, 73.69it/s] \n"
     ]
    },
    {
     "name": "stdout",
     "output_type": "stream",
     "text": [
      "Processing Fold3\n"
     ]
    },
    {
     "name": "stderr",
     "output_type": "stream",
     "text": [
      "100%|██████████| 2722/2722 [00:38<00:00, 70.69it/s] \n"
     ]
    }
   ],
   "source": [
    "train_dir = \"../../hover/processed/pan2/train\"\n",
    "test_dir = \"../../hover/processed/pan2/test\"\n",
    "\n",
    "try:\n",
    "    shutil.rmtree(train_dir)\n",
    "except:\n",
    "    pass\n",
    "\n",
    "try:\n",
    "    shutil.rmtree(test_dir)\n",
    "except:\n",
    "    pass\n",
    "if not os.path.exists(train_dir):\n",
    "    os.makedirs(train_dir)\n",
    "    \n",
    "if not os.path.exists(test_dir):\n",
    "    os.makedirs(test_dir)\n",
    "\n",
    "print(\"Processing Fold1\")\n",
    "images = np.load(imgs_fold1)\n",
    "masks = np.load(labels_fold1)\n",
    "process_fold(images, masks, train_dir, \"fold1\")\n",
    "\n",
    "print(\"Processing Fold2\")\n",
    "images = np.load(imgs_fold2)\n",
    "masks = np.load(labels_fold2)\n",
    "process_fold(images, masks, test_dir, \"fold2\")\n",
    "\n",
    "print(\"Processing Fold3\")\n",
    "images = np.load(imgs_fold3)\n",
    "masks = np.load(labels_fold3)\n",
    "process_fold(images, masks, train_dir, \"fold3\")"
   ]
  },
  {
   "cell_type": "code",
   "execution_count": null,
   "outputs": [],
   "source": [
    "# train_dir = \"../../hover/processed/pan3/train\"\n",
    "# test_dir = \"../../hover/processed/pan3/test\"\n",
    "imgs_fold1='C:/Users/es255022/OneDrive - Teradata/Desktop/Dataset/pannuke/fold_3/Fold 3/images/fold3/images.npy'\n",
    "labels_fold1='C:/Users/es255022/OneDrive - Teradata/Desktop/Dataset/pannuke/fold_3/Fold 3/masks/fold3/masks.npy'\n",
    "out_dir='C:/Users/es255022/OneDrive - Teradata/Desktop/Dataset/pannuke_fold3/'\n",
    "try:\n",
    "    shutil.rmtree(out_dir)\n",
    "except:\n",
    "    pass\n",
    "\n",
    "try:\n",
    "    shutil.rmtree(test_dir)\n",
    "except:\n",
    "    pass\n",
    "if not os.path.exists(out_dir):\n",
    "    os.makedirs(out_dir)\n",
    "    \n",
    "if not os.path.exists(test_dir):\n",
    "    os.makedirs(test_dir)\n",
    "\n",
    "print(\"Processing Fold1\")\n",
    "images = np.load(imgs_fold1)\n",
    "masks = np.load(labels_fold1)\n",
    "process_fold(images, masks, out_dir, \"fold3\")\n",
    "#\n",
    "# print(\"Processing Fold2\")\n",
    "# images = np.load(imgs_fold2)\n",
    "# masks = np.load(labels_fold2)\n",
    "# process_fold(images, masks, train_dir, \"fold2\")\n",
    "#\n",
    "# print(\"Processing Fold3\")\n",
    "# images = np.load(imgs_fold3)\n",
    "# masks = np.load(labels_fold3)\n",
    "# process_fold(images, masks, train_dir, \"fold3\")"
   ],
   "metadata": {
    "collapsed": false,
    "pycharm": {
     "name": "#%%\n",
     "is_executing": true
    }
   }
  },
  {
   "cell_type": "code",
   "execution_count": null,
   "outputs": [],
   "source": [],
   "metadata": {
    "collapsed": false,
    "pycharm": {
     "name": "#%%\n"
    }
   }
  },
  {
   "cell_type": "code",
   "execution_count": null,
   "outputs": [],
   "source": [],
   "metadata": {
    "collapsed": false,
    "pycharm": {
     "name": "#%%\n"
    }
   }
  }
 ],
 "metadata": {
  "kernelspec": {
   "display_name": "Python 3 (ipykernel)",
   "language": "python",
   "name": "python3"
  },
  "language_info": {
   "codemirror_mode": {
    "name": "ipython",
    "version": 3
   },
   "file_extension": ".py",
   "mimetype": "text/x-python",
   "name": "python",
   "nbconvert_exporter": "python",
   "pygments_lexer": "ipython3",
   "version": "3.7.13"
  }
 },
 "nbformat": 4,
 "nbformat_minor": 4
}